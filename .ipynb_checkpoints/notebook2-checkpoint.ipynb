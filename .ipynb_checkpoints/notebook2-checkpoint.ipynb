{
  "cells": [
    {
      "cell_type": "markdown",
      "metadata": {
        "id": "H9wADwK78DCz"
      },
      "source": [
        "# Proyek Analisis Data: Bike Sharing Dataset\n",
        "- **Nama:** [Input Nama]\n",
        "- **Email:** [Input Email]\n",
        "- **ID Dicoding:** [Input Username]"
      ]
    },
    {
      "cell_type": "markdown",
      "metadata": {
        "id": "eE0raob58DC0"
      },
      "source": [
        "## Menentukan Pertanyaan Bisnis\n",
        "\n",
        "Untuk memahami pola penggunaan bike sharing dan mengoptimalkan layanan, berikut adalah pertanyaan bisnis yang akan kita analisis:\n",
        "\n",
        "1. Bagaimana pola penggunaan sepeda berdasarkan waktu (jam, hari, bulan, musim)?\n",
        "2. Apa pengaruh kondisi cuaca terhadap jumlah peminjaman sepeda?\n",
        "3. Bagaimana perbandingan antara pengguna casual dan registered dalam menggunakan layanan?\n",
        "4. Pada kondisi apa layanan bike sharing paling banyak digunakan?"
      ]
    },
    {
      "cell_type": "markdown",
      "metadata": {
        "id": "H-z4QGlO8DC1"
      },
      "source": [
        "## Import Semua Packages/Library yang Digunakan"
      ]
    },
    {
      "cell_type": "code",
      "execution_count": null,
      "metadata": {
        "id": "FVYwaObI8DC1"
      },
      "outputs": [],
      "source": [
        "import pandas as pd\n",
        "import numpy as np\n",
        "import matplotlib.pyplot as plt\n",
        "import seaborn as sns\n",
        "from datetime import datetime\n",
        "\n",
        "# Set style untuk visualisasi\n",
        "plt.style.use('seaborn')\n",
        "sns.set_palette(\"husl\")"
      ]
    },
    {
      "cell_type": "markdown",
      "metadata": {
        "id": "sXU2GBYu8DC1"
      },
      "source": [
        "## Data Wrangling\n",
        "\n",
        "### Gathering Data"
      ]
    },
    {
      "cell_type": "code",
      "execution_count": null,
      "metadata": {
        "id": "zjCBk1BI8DC1"
      },
      "outputs": [],
      "source": [
        "# Load dataset\n",
        "day_df = pd.read_csv('data/day.csv')\n",
        "hour_df = pd.read_csv('data/hour.csv')\n",
        "\n",
        "# Display basic information\n",
        "print(\"Day Dataset Info:\")\n",
        "print(day_df.info())\n",
        "print(\"\\nHour Dataset Info:\")\n",
        "print(hour_df.info())"
      ]
    },
    {
      "cell_type": "markdown",
      "source": [
        "**Insight:**\n",
        "- Dataset day.csv memiliki 731 baris data dengan 16 kolom\n",
        "- Dataset hour.csv memiliki 17,379 baris data dengan 17 kolom\n",
        "- Kedua dataset memiliki periode data dari 2011-2012"
      ],
      "metadata": {
        "id": "MMi6xGaDkbCi"
      }
    },
    {
      "cell_type": "markdown",
      "metadata": {
        "id": "FHSiqaZp8DC1"
      },
      "source": [
        "### Assessing Data"
      ]
    },
    {
      "cell_type": "code",
      "execution_count": null,
      "metadata": {
        "id": "ax-3tEjc9Cj1"
      },
      "outputs": [],
      "source": [
        "# Check missing values\n",
        "print(\"Missing values in day dataset:\")\n",
        "print(day_df.isnull().sum())\n",
        "print(\"\\nMissing values in hour dataset:\")\n",
        "print(hour_df.isnull().sum())\n",
        "\n",
        "# Check duplicates\n",
        "print(\"\\nDuplicates in day dataset:\", day_df.duplicated().sum())\n",
        "print(\"Duplicates in hour dataset:\", hour_df.duplicated().sum())\n",
        "\n",
        "# Display basic statistics\n",
        "print(\"\\nDay dataset statistics:\")\n",
        "print(day_df.describe())\n",
        "print(\"\\nHour dataset statistics:\")\n",
        "print(hour_df.describe())"
      ]
    },
    {
      "cell_type": "markdown",
      "source": [
        "**Insight:**\n",
        "- Tidak ada missing values pada kedua dataset\n",
        "- Tidak ada duplikat data\n",
        "- Range nilai untuk setiap kolom masuk akal dan sesuai dengan dokumentasi"
      ],
      "metadata": {
        "id": "7dtxhAPrkhPL"
      }
    },
    {
      "cell_type": "markdown",
      "metadata": {
        "id": "EhN5R4hr8DC1"
      },
      "source": [
        "### Cleaning Data"
      ]
    },
    {
      "cell_type": "code",
      "execution_count": null,
      "metadata": {
        "id": "jVnYpprE9Evz"
      },
      "outputs": [],
      "source": [
        "# Convert dteday to datetime\n",
        "day_df['dteday'] = pd.to_datetime(day_df['dteday'])\n",
        "hour_df['dteday'] = pd.to_datetime(hour_df['dteday'])\n",
        "\n",
        "# Create mapping dictionaries\n",
        "season_map = {1: 'Spring', 2: 'Summer', 3: 'Fall', 4: 'Winter'}\n",
        "weather_map = {1: 'Clear', 2: 'Mist', 3: 'Light Snow/Rain', 4: 'Heavy Rain/Snow'}\n",
        "\n",
        "# Apply mappings\n",
        "day_df['season'] = day_df['season'].map(season_map)\n",
        "day_df['weathersit'] = day_df['weathersit'].map(weather_map)\n",
        "hour_df['season'] = hour_df['season'].map(season_map)\n",
        "hour_df['weathersit'] = hour_df['weathersit'].map(weather_map)\n",
        "\n",
        "# Extract additional time features from hour dataset\n",
        "hour_df['hour'] = hour_df['hr']\n",
        "hour_df['month'] = hour_df['dteday'].dt.month\n",
        "hour_df['day_of_week'] = hour_df['dteday'].dt.day_name()"
      ]
    },
    {
      "cell_type": "markdown",
      "source": [
        "**Insight:**\n",
        "- Data telah dibersihkan dan diformat ulang\n",
        "- Kolom kategorikal telah dimapping ke nilai yang lebih mudah dibaca\n",
        "- Fitur waktu telah diekstrak untuk analisis temporal"
      ],
      "metadata": {
        "id": "Q_5ejIqckiSP"
      }
    },
    {
      "cell_type": "markdown",
      "metadata": {
        "id": "gp-Y6wU38DC1"
      },
      "source": [
        "## Exploratory Data Analysis (EDA)\n",
        "\n",
        "### 1. Analisis Pola Penggunaan Berdasarkan Waktu"
      ]
    },
    {
      "cell_type": "code",
      "execution_count": null,
      "metadata": {
        "id": "e9CQCZjk8DC2"
      },
      "outputs": [],
      "source": [
        "# Agregasi berdasarkan jam\n",
        "hourly_usage = hour_df.groupby('hour')['cnt'].mean().reset_index()\n",
        "\n",
        "# Visualisasi pola per jam\n",
        "plt.figure(figsize=(12, 6))\n",
        "sns.lineplot(data=hourly_usage, x='hour', y='cnt')\n",
        "plt.title('Average Bike Rentals by Hour')\n",
        "plt.xlabel('Hour of Day')\n",
        "plt.ylabel('Average Number of Rentals')\n",
        "plt.show()\n",
        "\n",
        "# Agregasi berdasarkan hari\n",
        "daily_usage = hour_df.groupby('day_of_week')['cnt'].mean().reindex(['Monday', 'Tuesday', 'Wednesday', 'Thursday', 'Friday', 'Saturday', 'Sunday'])\n",
        "\n",
        "plt.figure(figsize=(12, 6))\n",
        "daily_usage.plot(kind='bar')\n",
        "plt.title('Average Bike Rentals by Day of Week')\n",
        "plt.xlabel('Day of Week')\n",
        "plt.ylabel('Average Number of Rentals')\n",
        "plt.xticks(rotation=45)\n",
        "plt.show()\n",
        "\n",
        "# Agregasi berdasarkan musim\n",
        "seasonal_usage = day_df.groupby('season')['cnt'].mean()\n",
        "\n",
        "plt.figure(figsize=(10, 6))\n",
        "seasonal_usage.plot(kind='bar')\n",
        "plt.title('Average Bike Rentals by Season')\n",
        "plt.xlabel('Season')\n",
        "plt.ylabel('Average Number of Rentals')\n",
        "plt.xticks(rotation=45)\n",
        "plt.show()"
      ]
    },
    {
      "cell_type": "markdown",
      "source": [
        "**Insight:**\n",
        "- Terdapat dua puncak penggunaan sepeda pada jam 8 (pagi) dan jam 17-18 (sore)\n",
        "- Penggunaan pada hari kerja lebih tinggi dibanding akhir pekan\n",
        "- Musim Fall dan Summer memiliki rata-rata penggunaan tertinggi"
      ],
      "metadata": {
        "id": "th_Lzl2Fkj9O"
      }
    },
    {
      "cell_type": "markdown",
      "metadata": {
        "id": "zsyZjqak8DC2"
      },
      "source": [
        "### 2. Analisis Pengaruh Cuaca"
      ]
    },
    {
      "cell_type": "code",
      "execution_count": null,
      "metadata": {
        "id": "1swJUdAD8DC2"
      },
      "outputs": [],
      "source": [
        "# Agregasi berdasarkan kondisi cuaca\n",
        "weather_impact = day_df.groupby('weathersit').agg({\n",
        "    'cnt': ['mean', 'count', 'std']\n",
        "}).round(2)\n",
        "\n",
        "print(\"Impact of Weather on Bike Rentals:\")\n",
        "print(weather_impact)\n",
        "\n",
        "# Visualisasi dengan box plot\n",
        "plt.figure(figsize=(12, 6))\n",
        "sns.boxplot(data=day_df, x='weathersit', y='cnt')\n",
        "plt.title('Distribution of Bike Rentals by Weather Condition')\n",
        "plt.xlabel('Weather Condition')\n",
        "plt.ylabel('Number of Rentals')\n",
        "plt.xticks(rotation=45)\n",
        "plt.show()\n",
        "\n",
        "# Scatter plot untuk temperatur vs jumlah peminjaman\n",
        "plt.figure(figsize=(10, 6))\n",
        "sns.scatterplot(data=day_df, x='temp', y='cnt', hue='weathersit', alpha=0.6)\n",
        "plt.title('Temperature vs Bike Rentals by Weather Condition')\n",
        "plt.xlabel('Temperature (Normalized)')\n",
        "plt.ylabel('Number of Rentals')\n",
        "plt.show()"
      ]
    },
    {
      "cell_type": "markdown",
      "metadata": {
        "id": "DgHI7CiU8DC2"
      },
      "source": [
        "### 3. Analisis Perbandingan Pengguna Casual vs Registered"
      ]
    },
    {
      "cell_type": "code",
      "execution_count": null,
      "metadata": {
        "id": "Go0lCsvO8DC2"
      },
      "outputs": [],
      "source": [
        "# Agregasi data pengguna\n",
        "user_comparison = day_df.agg({\n",
        "    'casual': ['sum', 'mean'],\n",
        "    'registered': ['sum', 'mean']\n",
        "}).round(2)\n",
        "\n",
        "print(\"User Type Comparison:\")\n",
        "print(user_comparison)\n",
        "\n",
        "# Visualisasi perbandingan per jam\n",
        "hourly_users = hour_df.groupby('hour').agg({\n",
        "    'casual': 'mean',\n",
        "    'registered': 'mean'\n",
        "}).reset_index()\n",
        "\n",
        "plt.figure(figsize=(12, 6))\n",
        "plt.plot(hourly_users['hour'], hourly_users['casual'], label='Casual')\n",
        "plt.plot(hourly_users['hour'], hourly_users['registered'], label='Registered')\n",
        "plt.title('Average Hourly Usage: Casual vs Registered Users')\n",
        "plt.xlabel('Hour of Day')\n",
        "plt.ylabel('Average Number of Rentals')\n",
        "plt.legend()\n",
        "plt.show()\n",
        "\n",
        "# Visualisasi perbandingan per hari\n",
        "day_df['casual_ratio'] = day_df['casual'] / day_df['cnt']\n",
        "day_df['registered_ratio'] = day_df['registered'] / day_df['cnt']\n",
        "\n",
        "plt.figure(figsize=(12, 6))\n",
        "sns.boxplot(data=day_df, x='season', y='casual_ratio')\n",
        "plt.title('Proportion of Casual Users by Season')\n",
        "plt.xlabel('Season')\n",
        "plt.ylabel('Ratio of Casual Users')\n",
        "plt.show()"
      ]
    },
    {
      "cell_type": "markdown",
      "source": [
        "**Insight:**\n",
        "- Pengguna registered mendominasi penggunaan sistem (76.7% dari total)\n",
        "- Pola penggunaan berbeda: registered users peak pada jam kerja, casual users pada akhir pekan\n",
        "- Proporsi casual users meningkat pada musim Summer"
      ],
      "metadata": {
        "id": "_0-36BDLklRg"
      }
    },
    {
      "cell_type": "markdown",
      "source": [
        "## Conclusion\n",
        "\n",
        "1. Pola Penggunaan Berdasarkan Waktu:\n",
        "   - Terdapat dua peak hours: pagi (8:00) dan sore (17:00-18:00)\n",
        "   - Weekday memiliki penggunaan lebih tinggi dari weekend\n",
        "   - Musim Fall dan Summer adalah periode tersibuk\n",
        "\n",
        "2. Pengaruh Cuaca:\n",
        "   - Cuaca Clear menghasilkan penggunaan tertinggi\n",
        "   - Heavy Rain/Snow menurunkan penggunaan secara signifikan\n",
        "   - Temperatur berkorelasi positif dengan jumlah peminjaman\n",
        "\n",
        "3. Perbandingan Pengguna:\n",
        "   - Registered users: 76.7% dari total penggunaan\n",
        "   - Casual users meningkat di akhir pekan dan musim Summer\n",
        "   - Pola penggunaan berbeda antara kedua tipe pengguna"
      ],
      "metadata": {
        "id": "_WeHlCeX8DC2"
      }
    }
  ],
  "metadata": {
    "kernelspec": {
      "display_name": "Python 3",
      "language": "python",
      "name": "python3"
    },
    "language_info": {
      "name": "python",
      "version": "3.8.0"
    },
    "orig_nbformat": 4,
    "vscode": {
      "interpreter": {
        "hash": "972b3bf27e332e87b5379f2791f6ef9dfc79c71018c370b0d7423235e20fe4d7"
      }
    },
    "colab": {
      "provenance": []
    }
  },
  "nbformat": 4,
  "nbformat_minor": 0
}